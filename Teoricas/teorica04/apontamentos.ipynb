{
 "cells": [
  {
   "cell_type": "markdown",
   "metadata": {},
   "source": [
    "Apontamentos aula 23/02/2022"
   ]
  },
  {
   "cell_type": "markdown",
   "metadata": {},
   "source": [
    "# Carateres especiais \n",
    "\n",
    ".\n",
    "Faz match com todos os carateres exceto o \\n\n",
    "\n",
    "linha1  kasdkasdkask\\n\n",
    "linha2 asdasvdsgs\\n\n",
    "\n",
    "regex(.+) = kasdkasdkask\n",
    "\n",
    "-----------------------\n",
    "\n",
    "^\n",
    "Quando colocado na primeira posicao nega os careteres que aperecem a frente\n",
    "\n",
    "regex([^0-9]) = qualquer carater exceto um digito\n",
    "\n",
    "----------------------\n",
    "\n",
    "=== Operadores de contexto / *Quantificadores*\n",
    "\n",
    "^ - inicio de linha\n",
    "$ - fim de linha\n",
    "\n",
    "\n",
    "regex(^(0|1)*$ ) = apanha uma string binaria em uma linha\n",
    "\n",
    "regex(mente$) = faz match com todas as linhas que acabem em mente\n",
    "\n",
    "regex(^[A-Z]) = faz match com uma letra maiscula desde que ela esteja no início da linha\n",
    "\n",
    "\n",
    "\\* -> {0,}  \n",
    "\\+ -> {1,} \n",
    "?  -> {0,1}\n",
    "\n",
    "{limite inferior,limite superior} -> apanha carateres desde limInferior até limSuperior\n",
    "\n",
    "\n",
    "----------------------\n",
    "\n",
    "Classes de Carateres\n",
    "\n",
    "---------------------\n",
    "\n",
    "*Para encontrar um inteiro* ( (\\+ | \\- )? ) ([0-9] +)\n",
    "\n",
    "Desta forma o codigo reconhce 2 padroes diferentes\n",
    "\n",
    "--------------\n"
   ]
  },
  {
   "cell_type": "markdown",
   "metadata": {},
   "source": [
    "### Shortcuts\n",
    "\n",
    "\\d -> [0-9]\n",
    "\n",
    "\\D -> [^0-9]\n",
    "\n",
    "\\w -> [A-Za-z0-9_]\n",
    "\n",
    "\\W -> [^A-Za-z0-9_]\n",
    "\n",
    "\\s -> [ \\t\\n\\r\\f\\v]\n",
    "\n",
    "\\S -> [^ \\t\\n\\r\\f\\v]\n",
    "\n",
    "[\\s\\d] - apanha 1 espaco branco ou 1 digito\n"
   ]
  },
  {
   "cell_type": "markdown",
   "metadata": {},
   "source": [
    "### Strings em Python\n",
    "\n",
    "nome = \"Maria\" -> string normal\n",
    "\n",
    "local = r\"\\n\"  -> raw string : esta string tem _2_ carateres \"\\\" e \"n\"\n",
    "\n",
    "b = \"\\n\" -> apenas tem _1_ carater que é a mudanca de linha\n",
    "\n",
    "---------\n",
    "\n",
    "\\section -> texto que eu quero apanhar\n",
    "\n",
    "_Regex_:\n",
    "regex(\\\\section) -> expressao regular\n",
    "\n",
    "### Codigo em python\n",
    "```python\n",
    "string s =  \"\\\\\\\\section\"\n",
    "string melhor = r\"\\\\section\"\n",
    "```\n"
   ]
  },
  {
   "cell_type": "markdown",
   "metadata": {},
   "source": [
    "### Operacaoes de Match\n",
    "\n",
    "Todas estas operacoes devolvem um _MATCH\\_OBJECT_\n",
    "* match() - Match Object\n",
    "* search() - \"\"\n",
    "* findall()  - [subtrings que fizeram match]\n",
    "\n",
    "* finditer() - [Match Object] apanha todas as ocurrencias de um padrao e mete tudo numa lista"
   ]
  },
  {
   "cell_type": "code",
   "execution_count": null,
   "metadata": {},
   "outputs": [
    {
     "ename": "",
     "evalue": "",
     "output_type": "error",
     "traceback": [
      "\u001b[1;31mRunning cells with 'Python 3.8.10 64-bit' requires ipykernel package.\n",
      "Run the following command to install 'ipykernel' into the Python environment. \n",
      "Command: '/usr/bin/python3 -m pip install ipykernel -U --user --force-reinstall'"
     ]
    }
   ],
   "source": [
    "\n",
    "import re\n",
    "p = re.compile(r'\\d+')\n",
    "print(p.match(\"ola\"))\n",
    "digitos = p.match(12).match\n",
    "print(int(digitos)*2)\n",
    "print(p)"
   ]
  }
 ],
 "metadata": {
  "interpreter": {
   "hash": "916dbcbb3f70747c44a77c7bcd40155683ae19c65e1c03b4aa3499c5328201f1"
  },
  "kernelspec": {
   "display_name": "Python 3.8.10 64-bit",
   "language": "python",
   "name": "python3"
  },
  "language_info": {
   "name": "python",
   "version": "3.8.10"
  },
  "orig_nbformat": 4
 },
 "nbformat": 4,
 "nbformat_minor": 2
}
