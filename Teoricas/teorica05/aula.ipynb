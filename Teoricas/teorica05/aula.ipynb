{
 "cells": [
  {
   "cell_type": "markdown",
   "metadata": {},
   "source": [
    "# Grupos e SubGrupos 2022/03/02\n",
    "\n",
    "* '('e')'\n",
    "\n",
    "* group(), start(), end() e span()\n",
    "\n",
    "* groups(), groupdict()"
   ]
  },
  {
   "cell_type": "markdown",
   "metadata": {},
   "source": [
    "## TPC\n",
    "\n",
    "Fazer uma expressao para caçar () e dar como invalido )(\n",
    "\n",
    "regex:\n",
    "```\n",
    "/\\(.*?\\)\n",
    "```\n",
    "Expressões para testar\n",
    "\n",
    "```\n",
    "(abbaba)\n",
    ")(\n",
    "((sdadsada))\n",
    "((\n",
    "())\n",
    "()()()(()\n",
    "```"
   ]
  }
 ],
 "metadata": {
  "interpreter": {
   "hash": "916dbcbb3f70747c44a77c7bcd40155683ae19c65e1c03b4aa3499c5328201f1"
  },
  "kernelspec": {
   "display_name": "Python 3.8.10 64-bit",
   "language": "python",
   "name": "python3"
  },
  "language_info": {
   "codemirror_mode": {
    "name": "ipython",
    "version": 3
   },
   "file_extension": ".py",
   "mimetype": "text/x-python",
   "name": "python",
   "nbconvert_exporter": "python",
   "pygments_lexer": "ipython3",
   "version": "3.8.10"
  },
  "orig_nbformat": 4
 },
 "nbformat": 4,
 "nbformat_minor": 2
}
